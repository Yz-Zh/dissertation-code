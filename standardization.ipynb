{
 "cells": [
  {
   "cell_type": "code",
   "execution_count": 92,
   "metadata": {},
   "outputs": [],
   "source": [
    "import matplotlib.pyplot as plt \n",
    "import numpy as np\n",
    "import pandas as pd\n",
    "import csv"
   ]
  },
  {
   "cell_type": "code",
   "execution_count": 93,
   "metadata": {},
   "outputs": [],
   "source": [
    "def stan(value,max_value,min_value):\n",
    "    return (value-min_value)/(max_value-min_value)"
   ]
  },
  {
   "cell_type": "markdown",
   "metadata": {},
   "source": [
    "## London"
   ]
  },
  {
   "cell_type": "code",
   "execution_count": 94,
   "metadata": {},
   "outputs": [],
   "source": [
    "demand=pd.read_csv(\"London/demand.csv\")\n",
    "park=pd.read_csv(\"London/park.csv\")\n",
    "hospital=pd.read_csv(\"London/hospital.csv\")\n",
    "school=pd.read_csv(\"London/school.csv\")"
   ]
  },
  {
   "cell_type": "markdown",
   "metadata": {},
   "source": [
    "### demand"
   ]
  },
  {
   "cell_type": "code",
   "execution_count": 95,
   "metadata": {},
   "outputs": [
    {
     "name": "stdout",
     "output_type": "stream",
     "text": [
      "finish\n"
     ]
    }
   ],
   "source": [
    "max_value=max(demand.values)[0]\n",
    "min_value=min(demand.values)[0]\n",
    "count=0\n",
    "new=[]\n",
    "while True:\n",
    "    try:\n",
    "        new.append(stan(demand.values[count][0],max_value,min_value))\n",
    "        count=count+1\n",
    "    except IndexError:\n",
    "        savecsv=pd.DataFrame(data=new)\n",
    "        savecsv.to_csv(\"London/result/new demand.csv\")\n",
    "        print(\"finish\")\n",
    "        break"
   ]
  },
  {
   "cell_type": "markdown",
   "metadata": {},
   "source": [
    "### park"
   ]
  },
  {
   "cell_type": "code",
   "execution_count": 96,
   "metadata": {},
   "outputs": [
    {
     "name": "stdout",
     "output_type": "stream",
     "text": [
      "finish\n"
     ]
    }
   ],
   "source": [
    "max_value=max(park.values)[0]\n",
    "min_value=min(park.values)[0]\n",
    "count=0\n",
    "new=[]\n",
    "while True:\n",
    "    try:\n",
    "        new.append(stan(park.values[count][0],max_value,min_value))\n",
    "        count=count+1\n",
    "    except IndexError:\n",
    "        savecsv=pd.DataFrame(data=new)\n",
    "        savecsv.to_csv(\"London/result/new park.csv\")\n",
    "        print(\"finish\")\n",
    "        break"
   ]
  },
  {
   "cell_type": "markdown",
   "metadata": {},
   "source": [
    "### hospital"
   ]
  },
  {
   "cell_type": "code",
   "execution_count": 97,
   "metadata": {},
   "outputs": [
    {
     "name": "stdout",
     "output_type": "stream",
     "text": [
      "finish\n"
     ]
    }
   ],
   "source": [
    "max_value=max(hospital.values)[0]\n",
    "min_value=min(hospital.values)[0]\n",
    "count=0\n",
    "new=[]\n",
    "while True:\n",
    "    try:\n",
    "        new.append(stan(hospital.values[count][0],max_value,min_value))\n",
    "        count=count+1\n",
    "    except IndexError:\n",
    "        savecsv=pd.DataFrame(data=new)\n",
    "        savecsv.to_csv(\"London/result/new hospital.csv\")\n",
    "        print(\"finish\")\n",
    "        break"
   ]
  },
  {
   "cell_type": "markdown",
   "metadata": {},
   "source": [
    "### school"
   ]
  },
  {
   "cell_type": "code",
   "execution_count": 98,
   "metadata": {},
   "outputs": [
    {
     "name": "stdout",
     "output_type": "stream",
     "text": [
      "finish\n"
     ]
    }
   ],
   "source": [
    "max_value=max(school.values)[0]\n",
    "min_value=min(school.values)[0]\n",
    "count=0\n",
    "new=[]\n",
    "while True:\n",
    "    try:\n",
    "        new.append(stan(school.values[count][0],max_value,min_value))\n",
    "        count=count+1\n",
    "    except IndexError:\n",
    "        savecsv=pd.DataFrame(data=new)\n",
    "        savecsv.to_csv(\"London/result/new school.csv\")\n",
    "        print(\"finish\")\n",
    "        break"
   ]
  },
  {
   "cell_type": "markdown",
   "metadata": {},
   "source": [
    "## Shanghai"
   ]
  },
  {
   "cell_type": "code",
   "execution_count": 83,
   "metadata": {},
   "outputs": [],
   "source": [
    "demand=pd.read_csv(\"Shanghai/demand.csv\")\n",
    "park=pd.read_csv(\"Shanghai/park.csv\")\n",
    "hospital=pd.read_csv(\"Shanghai/hospital.csv\")\n",
    "school=pd.read_csv(\"Shanghai/school.csv\")"
   ]
  },
  {
   "cell_type": "code",
   "execution_count": 84,
   "metadata": {},
   "outputs": [
    {
     "name": "stdout",
     "output_type": "stream",
     "text": [
      "finish\n"
     ]
    }
   ],
   "source": [
    "max_value=max(demand.values)[0]\n",
    "min_value=min(demand.values)[0]\n",
    "count=0\n",
    "new=[]\n",
    "while True:\n",
    "    try:\n",
    "        new.append(stan(demand.values[count][0],max_value,min_value))\n",
    "        count=count+1\n",
    "    except IndexError:\n",
    "        savecsv=pd.DataFrame(data=new)\n",
    "        savecsv.to_csv(\"Shanghai/result/new demand.csv\")\n",
    "        print(\"finish\")\n",
    "        break"
   ]
  },
  {
   "cell_type": "code",
   "execution_count": 85,
   "metadata": {},
   "outputs": [
    {
     "name": "stdout",
     "output_type": "stream",
     "text": [
      "finish\n"
     ]
    }
   ],
   "source": [
    "max_value=max(park.values)[0]\n",
    "min_value=min(park.values)[0]\n",
    "count=0\n",
    "new=[]\n",
    "while True:\n",
    "    try:\n",
    "        new.append(stan(park.values[count][0],max_value,min_value))\n",
    "        count=count+1\n",
    "    except IndexError:\n",
    "        savecsv=pd.DataFrame(data=new)\n",
    "        savecsv.to_csv(\"Shanghai/result/new park.csv\")\n",
    "        print(\"finish\")\n",
    "        break"
   ]
  },
  {
   "cell_type": "code",
   "execution_count": 86,
   "metadata": {},
   "outputs": [
    {
     "name": "stdout",
     "output_type": "stream",
     "text": [
      "finish\n"
     ]
    }
   ],
   "source": [
    "max_value=max(hospital.values)[0]\n",
    "min_value=min(hospital.values)[0]\n",
    "count=0\n",
    "new=[]\n",
    "while True:\n",
    "    try:\n",
    "        new.append(stan(hospital.values[count][0],max_value,min_value))\n",
    "        count=count+1\n",
    "    except IndexError:\n",
    "        savecsv=pd.DataFrame(data=new)\n",
    "        savecsv.to_csv(\"Shanghai/result/new hospital.csv\")\n",
    "        print(\"finish\")\n",
    "        break"
   ]
  },
  {
   "cell_type": "code",
   "execution_count": 87,
   "metadata": {},
   "outputs": [
    {
     "name": "stdout",
     "output_type": "stream",
     "text": [
      "finish\n"
     ]
    }
   ],
   "source": [
    "max_value=max(school.values)[0]\n",
    "min_value=min(school.values)[0]\n",
    "count=0\n",
    "new=[]\n",
    "while True:\n",
    "    try:\n",
    "        new.append(stan(school.values[count][0],max_value,min_value))\n",
    "        count=count+1\n",
    "    except IndexError:\n",
    "        savecsv=pd.DataFrame(data=new)\n",
    "        savecsv.to_csv(\"Shanghai/result/new school.csv\")\n",
    "        print(\"finish\")\n",
    "        break"
   ]
  },
  {
   "cell_type": "code",
   "execution_count": null,
   "metadata": {},
   "outputs": [],
   "source": []
  },
  {
   "cell_type": "code",
   "execution_count": null,
   "metadata": {},
   "outputs": [],
   "source": []
  },
  {
   "cell_type": "code",
   "execution_count": null,
   "metadata": {},
   "outputs": [],
   "source": []
  }
 ],
 "metadata": {
  "kernelspec": {
   "display_name": "Python 3",
   "language": "python",
   "name": "python3"
  },
  "language_info": {
   "codemirror_mode": {
    "name": "ipython",
    "version": 3
   },
   "file_extension": ".py",
   "mimetype": "text/x-python",
   "name": "python",
   "nbconvert_exporter": "python",
   "pygments_lexer": "ipython3",
   "version": "3.7.8"
  }
 },
 "nbformat": 4,
 "nbformat_minor": 4
}

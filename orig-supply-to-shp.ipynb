{
 "cells": [
  {
   "cell_type": "markdown",
   "metadata": {},
   "source": [
    "## import"
   ]
  },
  {
   "cell_type": "code",
   "execution_count": 58,
   "metadata": {},
   "outputs": [],
   "source": [
    "import pandas as pd\n",
    "import geopandas\n",
    "import pyproj\n",
    "import numpy as np"
   ]
  },
  {
   "cell_type": "markdown",
   "metadata": {},
   "source": [
    "## load data"
   ]
  },
  {
   "cell_type": "code",
   "execution_count": 59,
   "metadata": {},
   "outputs": [],
   "source": [
    "path=\"Shanghai/public_space/school/\""
   ]
  },
  {
   "cell_type": "code",
   "execution_count": 60,
   "metadata": {},
   "outputs": [],
   "source": [
    "supply_data = pd.read_csv(path+'shanghai_school.csv')"
   ]
  },
  {
   "cell_type": "markdown",
   "metadata": {},
   "source": [
    "## split the lon and lat from origin data"
   ]
  },
  {
   "cell_type": "code",
   "execution_count": 61,
   "metadata": {},
   "outputs": [
    {
     "name": "stdout",
     "output_type": "stream",
     "text": [
      "(31.11724009355963 121.45375701040938)\n",
      "(31.152908264025164 121.45883696783827)\n",
      "(31.145047937867233 121.4126215753637)\n",
      "(31.177304160752506 121.42459308250733)\n",
      "(31.315280147304232 121.5263747941577)\n",
      "(31.29106066367528 121.50503422668527)\n",
      "(31.278433812008995 121.48030699784981)\n",
      "(31.2528783885634 121.4819983880476)\n",
      "(31.264930527677347 121.4832037292145)\n",
      "(31.27896386339173 121.49356554197408)\n",
      "(31.278832642641888 121.48659926901459)\n",
      "(31.14920021982469 121.36629677273974)\n",
      "(31.208112040680195 121.49269420699558)\n",
      "(31.22279593177352 121.45795959784878)\n",
      "(31.209677805354296 121.46493481134316)\n",
      "(31.206238510855403 121.43118491318931)\n",
      "(31.20202978727835 121.5944335672038)\n",
      "(31.266965044945763 121.5944416575236)\n",
      "(31.182884055911455 121.50803331091853)\n",
      "(31.25568832477696 121.46713126901433)\n",
      "(31.23857521734013 121.44579295378703)\n",
      "(31.26481298145901 121.4089232690145)\n",
      "(31.627210827896224 121.39085467544538)\n",
      "(30.921650573667762 121.49468386900867)\n",
      "(31.406612581411522 121.25453884018168)\n"
     ]
    }
   ],
   "source": [
    "latdest=[]\n",
    "londest=[]\n",
    "for dest in supply_data[\"location\"]:\n",
    "    print(dest)\n",
    "    latdest.append(str(dest).split(' ')[0].split('(')[1])\n",
    "    londest.append(str(dest).split(' ')[1].split(')')[0])\n",
    "supply_data['latitude']=latdest\n",
    "supply_data['lontitude']=londest"
   ]
  },
  {
   "cell_type": "markdown",
   "metadata": {},
   "source": [
    "## create a new csv with splited coordinate"
   ]
  },
  {
   "cell_type": "code",
   "execution_count": 62,
   "metadata": {},
   "outputs": [],
   "source": [
    "supply_data.to_csv(path+'shanghai_school_processed_1.csv')"
   ]
  },
  {
   "cell_type": "markdown",
   "metadata": {},
   "source": [
    "## convert the new supply data into shp (WGS84)"
   ]
  },
  {
   "cell_type": "code",
   "execution_count": 63,
   "metadata": {},
   "outputs": [],
   "source": [
    "###delete the geometry column if exists; otherwise, rises \"RecursionError: maximum recursion depth exceeded\"\n",
    "supply_data = geopandas.read_file(path+'shanghai_school_processed_1.csv')\n",
    "supply_data[['lon','lat']]=supply_data[['lontitude','latitude']].apply(pd.to_numeric)\n",
    "gdf= geopandas.GeoDataFrame(supply_data, geometry=geopandas.points_from_xy(supply_data.lon,supply_data.lat))\n",
    "gdf.crs= pyproj.CRS.from_user_input('EPSG:4326')\n",
    "#gdf.to_crs(\"EPSG:27700\", inplace = True)\n",
    "gdf.to_file(path+'shp/shanghai_school.shp')"
   ]
  },
  {
   "cell_type": "code",
   "execution_count": null,
   "metadata": {},
   "outputs": [],
   "source": []
  },
  {
   "cell_type": "code",
   "execution_count": null,
   "metadata": {},
   "outputs": [],
   "source": []
  }
 ],
 "metadata": {
  "kernelspec": {
   "display_name": "Python 3",
   "language": "python",
   "name": "python3"
  },
  "language_info": {
   "codemirror_mode": {
    "name": "ipython",
    "version": 3
   },
   "file_extension": ".py",
   "mimetype": "text/x-python",
   "name": "python",
   "nbconvert_exporter": "python",
   "pygments_lexer": "ipython3",
   "version": "3.7.8"
  }
 },
 "nbformat": 4,
 "nbformat_minor": 4
}
